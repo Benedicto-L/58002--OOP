{
  "nbformat": 4,
  "nbformat_minor": 0,
  "metadata": {
    "colab": {
      "provenance": [],
      "authorship_tag": "ABX9TyMnjyac0t/eq9kKBaENLhEa",
      "include_colab_link": true
    },
    "kernelspec": {
      "name": "python3",
      "display_name": "Python 3"
    },
    "language_info": {
      "name": "python"
    }
  },
  "cells": [
    {
      "cell_type": "markdown",
      "metadata": {
        "id": "view-in-github",
        "colab_type": "text"
      },
      "source": [
        "<a href=\"https://colab.research.google.com/github/Benedicto-Luver/58002--OOP/blob/main/OOP_Concepts.ipynb\" target=\"_parent\"><img src=\"https://colab.research.google.com/assets/colab-badge.svg\" alt=\"Open In Colab\"/></a>"
      ]
    },
    {
      "cell_type": "code",
      "execution_count": 4,
      "metadata": {
        "colab": {
          "base_uri": "https://localhost:8080/"
        },
        "id": "dvMGpihexF_q",
        "outputId": "351ac58e-a8b0-4cc5-d030-330d67a75cdf"
      },
      "outputs": [
        {
          "output_type": "stream",
          "name": "stdout",
          "text": [
            "4\n"
          ]
        }
      ],
      "source": [
        "#Creation of Class\n",
        "\n",
        "class myClass:    #name of class\n",
        "  y = 4           #property name\n",
        "\n",
        "p1 = myClass()    #create an object named p1\n",
        "print(p1.y)       #print the value of y"
      ]
    },
    {
      "cell_type": "code",
      "source": [
        "class myClass:\n",
        "  pass"
      ],
      "metadata": {
        "id": "1fKvANg0x2z_"
      },
      "execution_count": 5,
      "outputs": []
    },
    {
      "cell_type": "code",
      "source": [
        "#Creation of Method\n",
        "\n",
        "class Persons:\n",
        "  def __init__(self,name,age):\n",
        "    self.name = name\n",
        "    self.age = age\n",
        "\n",
        "  def myfunction(self):\n",
        "    print(\"Hello, my name is\", self.name)\n",
        "\n",
        "student = Persons(\"Luver\", 19)\n",
        "student.myfunction()"
      ],
      "metadata": {
        "colab": {
          "base_uri": "https://localhost:8080/"
        },
        "id": "pfUOJAiZyCQA",
        "outputId": "bc4e5ad0-52f2-400a-e26b-ce7dab9a992a"
      },
      "execution_count": 8,
      "outputs": [
        {
          "output_type": "stream",
          "name": "stdout",
          "text": [
            "Hello, my name is Luver\n"
          ]
        }
      ]
    },
    {
      "cell_type": "code",
      "source": [
        "#Modification of Object Properties\n",
        "student.name = \"Clifford\"\n",
        "\n",
        "student.myfunction()"
      ],
      "metadata": {
        "colab": {
          "base_uri": "https://localhost:8080/"
        },
        "id": "nT8BlOYUzeiU",
        "outputId": "978c362c-a99a-45a5-a5ac-33d92b928b6f"
      },
      "execution_count": 14,
      "outputs": [
        {
          "output_type": "stream",
          "name": "stdout",
          "text": [
            "Hello, my name is Clifford\n"
          ]
        }
      ]
    },
    {
      "cell_type": "code",
      "source": [
        "#Deletion of Object Properties\n",
        "\n",
        "print(student.name)"
      ],
      "metadata": {
        "colab": {
          "base_uri": "https://localhost:8080/"
        },
        "id": "c6vAPBjfz8v6",
        "outputId": "6594ce70-89a4-4016-9e98-2b820f6e6c11"
      },
      "execution_count": 16,
      "outputs": [
        {
          "output_type": "stream",
          "name": "stdout",
          "text": [
            "Clifford\n"
          ]
        }
      ]
    },
    {
      "cell_type": "code",
      "source": [
        "class Shapes:\n",
        "  def __init__(self,side1,side2):\n",
        "    self.side1 = side1\n",
        "    self.side2 = side2\n",
        "\n",
        "  def area_rectangle(self):\n",
        "    return self.side1 * self.side2\n",
        "\n",
        "  def display_rectangle(self):\n",
        "    print(\"The area of this rectangle is\", self.area_rectangle())\n",
        "\n",
        "rectangle = Shapes(10,5)\n",
        "\n",
        "rectangle.display_rectangle()\n"
      ],
      "metadata": {
        "colab": {
          "base_uri": "https://localhost:8080/"
        },
        "id": "kqJIZfu003cG",
        "outputId": "cb107d23-4c42-4fd2-b65b-a85d0a54b4f7"
      },
      "execution_count": 35,
      "outputs": [
        {
          "output_type": "stream",
          "name": "stdout",
          "text": [
            "The area of this rectangle is 50\n"
          ]
        }
      ]
    },
    {
      "cell_type": "code",
      "source": [
        "#Inheritance\n",
        "\n",
        "\n",
        "class Shapes:\n",
        "  def __init__(self,side1,side2):\n",
        "    self.side1 = side1\n",
        "    self.side2 = side2\n",
        "\n",
        "  \n",
        "class Square(Shapes):\n",
        "  def area_square(self):\n",
        "    return self.side1 *self.side1\n",
        "  def display_square(self):\n",
        "    print(\"The area of the square is\",self.area_square())\n",
        "\n",
        "class Rectangle(Shapes):\n",
        "  def area_rectangle(self):\n",
        "    print(self.side1 * self.side2)\n",
        "  def display_rectangle(self):\n",
        "    print(\"The area of the rectangle is\",self.display_rectangle())\n",
        "\n",
        "square = Square(4,4)\n",
        "\n",
        "rectangle = Rectangle(10,5)\n",
        "\n",
        "square.display_square()\n",
        "\n",
        "rectangle.display_rectangle()"
      ],
      "metadata": {
        "id": "EwUMTXmp715u"
      },
      "execution_count": null,
      "outputs": []
    },
    {
      "cell_type": "code",
      "source": [
        "# Create your own Python program that has the following:\n",
        "# Person as class name\n",
        "# Full name, age, and school\n",
        "# Identity() as method to display your full name, age, and school\n",
        "# person as object name\n",
        "\n",
        "class Person:\n",
        "  def __init__(self,name,age,school):\n",
        "    self.name = name\n",
        "    self.age = age\n",
        "    self.school = school\n",
        "\n",
        "  def Identity(self):\n",
        "    print(\"Hello, I am\", self.name,\",\", self.age,\"years old, currently schooling in\", self.school)\n",
        "\n",
        "person = Person(\"Luver G. Benedicto Jr.\", 19, \"Adamson University.\")\n",
        "person.Identity()"
      ],
      "metadata": {
        "colab": {
          "base_uri": "https://localhost:8080/"
        },
        "id": "EuXrBohy-cfH",
        "outputId": "736d6e11-fdfa-4181-f694-b84709b673a1"
      },
      "execution_count": 10,
      "outputs": [
        {
          "output_type": "stream",
          "name": "stdout",
          "text": [
            "Hello, I am Luver G. Benedicto Jr. , 19 years old, currently schooling in Adamson University.\n"
          ]
        }
      ]
    }
  ]
}