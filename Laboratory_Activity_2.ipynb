{
  "nbformat": 4,
  "nbformat_minor": 0,
  "metadata": {
    "colab": {
      "provenance": [],
      "authorship_tag": "ABX9TyM0K71uHJuPD6gh0MMxHjan",
      "include_colab_link": true
    },
    "kernelspec": {
      "name": "python3",
      "display_name": "Python 3"
    },
    "language_info": {
      "name": "python"
    }
  },
  "cells": [
    {
      "cell_type": "markdown",
      "metadata": {
        "id": "view-in-github",
        "colab_type": "text"
      },
      "source": [
        "<a href=\"https://colab.research.google.com/github/Benedicto-Luver/58002--OOP/blob/main/Laboratory_Activity_2.ipynb\" target=\"_parent\"><img src=\"https://colab.research.google.com/assets/colab-badge.svg\" alt=\"Open In Colab\"/></a>"
      ]
    },
    {
      "cell_type": "markdown",
      "source": [
        "Laboratory Activity 2"
      ],
      "metadata": {
        "id": "oK3iPcYdy4CP"
      }
    },
    {
      "cell_type": "code",
      "execution_count": 8,
      "metadata": {
        "colab": {
          "base_uri": "https://localhost:8080/"
        },
        "id": "w50L4StZxdCi",
        "outputId": "fe3e59bb-1fab-435b-9cb5-85418da3c36e"
      },
      "outputs": [
        {
          "output_type": "stream",
          "name": "stdout",
          "text": [
            "Enter the radius of the circle: 91\n",
            "The perimeter of the circle is 571.77\n",
            "The area of the circle is 26015.53\n"
          ]
        }
      ],
      "source": [
        "#Write a Python program that asks the user to enter the radius of a circle and solve its area and perimeter.\n",
        "#Create a class name Circle allowing you to build a circle with radius and pi attributes.\n",
        "#Create a method Display() the perimeter and area using an instantiation of a class.\n",
        "#Create a Perimeter() method to calculate the perimeter of the circle and an Area() method to calculate the area of ​​the circle.\n",
        "\n",
        "\n",
        "\n",
        "class Circle:\n",
        "    def __init__(self, radius):\n",
        "        self.radius = radius\n",
        "        self.pi = 3.14159265358979323846\n",
        "\n",
        "    def Perimeter(self):\n",
        "        return 2 * self.pi * self.radius\n",
        "\n",
        "    def Area(self):\n",
        "        return self.pi * self.radius ** 2\n",
        "\n",
        "    def Display(self):\n",
        "        print(f\"The perimeter of the circle is {self.Perimeter():.2f}\")\n",
        "        print(f\"The area of the circle is {self.Area():.2f}\")\n",
        "\n",
        "radius = float(input(\"Enter the radius of the circle: \"))\n",
        "circle = Circle(radius)\n",
        "circle.Display()"
      ]
    }
  ]
}