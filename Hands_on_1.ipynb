{
  "nbformat": 4,
  "nbformat_minor": 0,
  "metadata": {
    "colab": {
      "provenance": [],
      "authorship_tag": "ABX9TyMsZVb5Xc07cjrcXiB4It6o",
      "include_colab_link": true
    },
    "kernelspec": {
      "name": "python3",
      "display_name": "Python 3"
    },
    "language_info": {
      "name": "python"
    }
  },
  "cells": [
    {
      "cell_type": "markdown",
      "metadata": {
        "id": "view-in-github",
        "colab_type": "text"
      },
      "source": [
        "<a href=\"https://colab.research.google.com/github/Benedicto-Luver/58002--OOP/blob/main/Hands_on_1.ipynb\" target=\"_parent\"><img src=\"https://colab.research.google.com/assets/colab-badge.svg\" alt=\"Open In Colab\"/></a>"
      ]
    },
    {
      "cell_type": "markdown",
      "source": [
        "1. Create a Python program that displays the name of three students (Student 1, Student 2, and Student 3) and their term grades\n",
        "\n",
        "2. Create a class name Person and attributes - std1, std2, std3, pre, mid, fin\n",
        "\n",
        "3. Compute the average of each term grade using Grade() method\n",
        "\n",
        "4. Information about student's grades must be hidden from others"
      ],
      "metadata": {
        "id": "su4uYgPP-eJ7"
      }
    },
    {
      "cell_type": "code",
      "source": [
        "class Person:\n",
        "    def __init__(self, std1, std2, std3, pre, mid, fin):\n",
        "        self._std1 = std1\n",
        "        self._std2 = std2\n",
        "        self._std3 = std3\n",
        "        self._pre = pre\n",
        "        self._mid = mid\n",
        "        self._fin = fin\n",
        "\n",
        "    def grades(self):\n",
        "        return (self._pre + self._mid + self._fin) / 3\n",
        "\n",
        "    def display(self):\n",
        "        print(f\"=\", self._std1, self._std2, self._std3,)\n",
        "        print(f\"Prelim: {self._pre}\")\n",
        "        print(f\"Midterm: {self._mid}\")\n",
        "        print(f\"Final: {self._fin}\")\n",
        "        print(f\"General Average: {round(self.grades(), 2)}\\n\")\n",
        "\n",
        "student1 = Person(\"Student 1\", \" \", \" \", 90, 78, 81)\n",
        "student1.display()\n",
        "\n",
        "student2 = Person(\"Student 2\", \" \", \" \", 91, 66, 82)\n",
        "student2.display()\n",
        "\n",
        "student3 = Person(\"Student 3\", \" \", \" \", 95, 92, 89)\n",
        "student3.display()\n"
      ],
      "metadata": {
        "colab": {
          "base_uri": "https://localhost:8080/"
        },
        "id": "ytYwsQUz--QT",
        "outputId": "e9ca9725-671a-46d3-a373-78e57acad764"
      },
      "execution_count": 56,
      "outputs": [
        {
          "output_type": "stream",
          "name": "stdout",
          "text": [
            "= Student 1    \n",
            "Prelim: 90\n",
            "Midterm: 78\n",
            "Final: 81\n",
            "General Average: 83.0\n",
            "\n",
            "= Student 2    \n",
            "Prelim: 91\n",
            "Midterm: 66\n",
            "Final: 82\n",
            "General Average: 79.67\n",
            "\n",
            "= Student 3    \n",
            "Prelim: 95\n",
            "Midterm: 92\n",
            "Final: 89\n",
            "General Average: 92.0\n",
            "\n"
          ]
        }
      ]
    }
  ]
}