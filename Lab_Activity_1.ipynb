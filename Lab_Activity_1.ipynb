{
  "nbformat": 4,
  "nbformat_minor": 0,
  "metadata": {
    "colab": {
      "provenance": [],
      "authorship_tag": "ABX9TyPSjrbwj0w767qtlC9i12cF",
      "include_colab_link": true
    },
    "kernelspec": {
      "name": "python3",
      "display_name": "Python 3"
    },
    "language_info": {
      "name": "python"
    }
  },
  "cells": [
    {
      "cell_type": "markdown",
      "metadata": {
        "id": "view-in-github",
        "colab_type": "text"
      },
      "source": [
        "<a href=\"https://colab.research.google.com/github/Benedicto-Luver/58002--OOP/blob/main/Lab_Activity_1.ipynb\" target=\"_parent\"><img src=\"https://colab.research.google.com/assets/colab-badge.svg\" alt=\"Open In Colab\"/></a>"
      ]
    },
    {
      "cell_type": "code",
      "execution_count": 22,
      "metadata": {
        "colab": {
          "base_uri": "https://localhost:8080/"
        },
        "id": "PQkeXB3solM4",
        "outputId": "8dec6196-64ec-415f-b270-3d35a673ab64"
      },
      "outputs": [
        {
          "output_type": "stream",
          "name": "stdout",
          "text": [
            "Sum =  0\n",
            "Average =  1.0\n",
            "Sum =  1.0\n",
            "Average =  1.95\n",
            "Sum =  1.95\n",
            "Average =  2.85\n",
            "Sum =  2.85\n",
            "Average =  3.7\n",
            "Sum =  3.7\n",
            "Average =  4.5\n",
            "Sum =  4.5\n",
            "Average =  5.25\n",
            "Sum =  5.25\n",
            "Average =  5.95\n",
            "Sum =  5.95\n",
            "Average =  6.6\n",
            "Sum =  6.6\n",
            "Average =  7.2\n",
            "Sum =  7.2\n",
            "Average =  7.75\n",
            "Sum =  7.75\n",
            "Average =  8.25\n",
            "Sum =  8.25\n",
            "Average =  8.7\n",
            "Sum =  8.7\n",
            "Average =  9.1\n",
            "Sum =  9.1\n",
            "Average =  9.45\n",
            "Sum =  9.45\n",
            "Average =  9.75\n",
            "Sum =  9.75\n",
            "Average =  10.0\n",
            "Sum =  10.0\n",
            "Average =  10.2\n",
            "Sum =  10.2\n",
            "Average =  10.35\n",
            "Sum =  10.35\n",
            "Average =  10.45\n",
            "Sum =  10.45\n",
            "Average =  10.5\n",
            "Sum =  10.5\n",
            "Average =  10.5\n"
          ]
        }
      ],
      "source": [
        "n = 20\n",
        "t = n\n",
        "sum = 0\n",
        "average = 0\n",
        "\n",
        "while n>=0:\n",
        "  sum+=n\n",
        "  n-=1\n",
        "  print(\"Sum = \", average)\n",
        "  average=sum/t\n",
        "  print(\"Average = \", average)\n",
        "\n",
        "\n",
        "\n"
      ]
    }
  ]
}