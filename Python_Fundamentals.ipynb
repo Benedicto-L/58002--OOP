{
  "nbformat": 4,
  "nbformat_minor": 0,
  "metadata": {
    "colab": {
      "provenance": [],
      "authorship_tag": "ABX9TyMfkJqiWXd+K7CY8Qx/Xf4S",
      "include_colab_link": true
    },
    "kernelspec": {
      "name": "python3",
      "display_name": "Python 3"
    },
    "language_info": {
      "name": "python"
    }
  },
  "cells": [
    {
      "cell_type": "markdown",
      "metadata": {
        "id": "view-in-github",
        "colab_type": "text"
      },
      "source": [
        "<a href=\"https://colab.research.google.com/github/Benedicto-Luver/58002--OOP/blob/main/Python_Fundamentals.ipynb\" target=\"_parent\"><img src=\"https://colab.research.google.com/assets/colab-badge.svg\" alt=\"Open In Colab\"/></a>"
      ]
    },
    {
      "cell_type": "markdown",
      "source": [
        "Python Indentation"
      ],
      "metadata": {
        "id": "7aldbliEwwOm"
      }
    },
    {
      "cell_type": "code",
      "source": [
        "if 5>2:\n",
        "  print(\"Five is greater than two!\")"
      ],
      "metadata": {
        "colab": {
          "base_uri": "https://localhost:8080/"
        },
        "id": "3oei-Lttw0al",
        "outputId": "72aa2de8-fd44-47b4-9438-5bc1f90b9aa5"
      },
      "execution_count": 1,
      "outputs": [
        {
          "output_type": "stream",
          "name": "stdout",
          "text": [
            "Five is greater than two!\n"
          ]
        }
      ]
    },
    {
      "cell_type": "markdown",
      "source": [
        "Python Comment"
      ],
      "metadata": {
        "id": "o6IrXM-Ox5Fm"
      }
    },
    {
      "cell_type": "code",
      "source": [
        "#This is a comment\n",
        "print(\"Hello, World\")"
      ],
      "metadata": {
        "colab": {
          "base_uri": "https://localhost:8080/"
        },
        "id": "5GaXs2ewx7kO",
        "outputId": "bd16880f-132d-43ee-962b-426be2314bab"
      },
      "execution_count": 3,
      "outputs": [
        {
          "output_type": "stream",
          "name": "stdout",
          "text": [
            "Hello, World\n"
          ]
        }
      ]
    },
    {
      "cell_type": "markdown",
      "source": [
        "Naming Variable"
      ],
      "metadata": {
        "id": "dLsBOUsUyP7f"
      }
    },
    {
      "cell_type": "code",
      "source": [
        "#Single variable with single value\n",
        "x = 1\n",
        "y = 2\n",
        "x\n",
        "y\n",
        "print (x)\n",
        "print (y)\n",
        "\n",
        "#Multiple variable with a single value\n",
        "\n",
        "a = b = c = \"Maria\"\n",
        "print (a)\n",
        "print (b)\n",
        "print (c)\n",
        "\n",
        "#Multiple variable with multiple values\n",
        "\n",
        "e, f, g = 1, 2, 3\n",
        "print (e)\n",
        "print (f)\n",
        "print (g)"
      ],
      "metadata": {
        "colab": {
          "base_uri": "https://localhost:8080/"
        },
        "id": "z0LB9PP0yRc_",
        "outputId": "829dee41-b90f-4e44-be3e-be65a2b473b4"
      },
      "execution_count": 10,
      "outputs": [
        {
          "output_type": "stream",
          "name": "stdout",
          "text": [
            "1\n",
            "2\n",
            "Maria\n",
            "Maria\n",
            "Maria\n",
            "1\n",
            "2\n",
            "3\n"
          ]
        }
      ]
    },
    {
      "cell_type": "markdown",
      "source": [
        "Single or Double"
      ],
      "metadata": {
        "id": "J2Ya2dj00qUS"
      }
    },
    {
      "cell_type": "code",
      "source": [
        "v = \"Sally\"\n",
        "u = 'Sally'\n",
        "print (v)\n",
        "print (u)"
      ],
      "metadata": {
        "colab": {
          "base_uri": "https://localhost:8080/"
        },
        "id": "gL0dMpnK0tD5",
        "outputId": "3a3af5e8-23eb-417d-8578-14d644c3e8ac"
      },
      "execution_count": 11,
      "outputs": [
        {
          "output_type": "stream",
          "name": "stdout",
          "text": [
            "Sally\n",
            "Sally\n"
          ]
        }
      ]
    },
    {
      "cell_type": "markdown",
      "source": [
        "Casting"
      ],
      "metadata": {
        "id": "oH6AUqEn1D7a"
      }
    },
    {
      "cell_type": "code",
      "source": [
        "p = float(5)\n",
        "p"
      ],
      "metadata": {
        "colab": {
          "base_uri": "https://localhost:8080/"
        },
        "id": "eZfK4Bhg1FdI",
        "outputId": "e07498f5-34fc-4761-833c-2308a23e2b60"
      },
      "execution_count": 13,
      "outputs": [
        {
          "output_type": "execute_result",
          "data": {
            "text/plain": [
              "5.0"
            ]
          },
          "metadata": {},
          "execution_count": 13
        }
      ]
    },
    {
      "cell_type": "markdown",
      "source": [
        "Type() function\n",
        "\n",
        "(resizing text) - #"
      ],
      "metadata": {
        "id": "IPYvbTZC1iEh"
      }
    },
    {
      "cell_type": "code",
      "source": [
        "f = \"Ana\"\n",
        "g = 4.56\n",
        "\n",
        "print(type(f))\n",
        "print(type(g))"
      ],
      "metadata": {
        "colab": {
          "base_uri": "https://localhost:8080/"
        },
        "id": "lLY4kM1J1k_J",
        "outputId": "b20353f0-15e3-4335-c829-de0946a74d88"
      },
      "execution_count": 15,
      "outputs": [
        {
          "output_type": "stream",
          "name": "stdout",
          "text": [
            "<class 'str'>\n",
            "<class 'float'>\n"
          ]
        }
      ]
    },
    {
      "cell_type": "markdown",
      "source": [
        "Concatenation using + symbol"
      ],
      "metadata": {
        "id": "lZKY_kZm2opk"
      }
    },
    {
      "cell_type": "code",
      "source": [
        "k = \"entertaining\"\n",
        "j = \"Python Programming is \"\n",
        "print(\"Python Programming is \" + k)\n",
        "print(j + k)"
      ],
      "metadata": {
        "colab": {
          "base_uri": "https://localhost:8080/"
        },
        "id": "8nSGU0Rd25lk",
        "outputId": "88f59048-125c-4b23-839d-dd5d72aa2f83"
      },
      "execution_count": 22,
      "outputs": [
        {
          "output_type": "stream",
          "name": "stdout",
          "text": [
            "Python Programming is entertaining\n",
            "Python Programming is entertaining\n"
          ]
        }
      ]
    }
  ]
}