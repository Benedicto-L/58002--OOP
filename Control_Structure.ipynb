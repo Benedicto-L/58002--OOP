{
  "nbformat": 4,
  "nbformat_minor": 0,
  "metadata": {
    "colab": {
      "provenance": [],
      "authorship_tag": "ABX9TyM6ECwuOvKrgMkU0aHSLFr5",
      "include_colab_link": true
    },
    "kernelspec": {
      "name": "python3",
      "display_name": "Python 3"
    },
    "language_info": {
      "name": "python"
    }
  },
  "cells": [
    {
      "cell_type": "markdown",
      "metadata": {
        "id": "view-in-github",
        "colab_type": "text"
      },
      "source": [
        "<a href=\"https://colab.research.google.com/github/Benedicto-Luver/58002--OOP/blob/main/Control_Structure.ipynb\" target=\"_parent\"><img src=\"https://colab.research.google.com/assets/colab-badge.svg\" alt=\"Open In Colab\"/></a>"
      ]
    },
    {
      "cell_type": "markdown",
      "source": [
        "If Statement"
      ],
      "metadata": {
        "id": "5zxFWOO2jeZI"
      }
    },
    {
      "cell_type": "markdown",
      "source": [
        "Elif Statements\n",
        "\n",
        "<declaration of variables>\n",
        "\n",
        "if condition1:\n",
        "\n",
        "block of statements\n",
        "\n",
        "elif condtion2:\n",
        "\n",
        "block of statements\n",
        "\n",
        "Example:\n",
        "\n",
        "\n",
        "\n"
      ],
      "metadata": {
        "id": "m0N5pbpgjiVg"
      }
    },
    {
      "cell_type": "code",
      "source": [
        "a = 12\n",
        "b = 12\n",
        "if b > a:\n",
        "  print(\"b is greater than a\")\n",
        "elif b == a:\n",
        "  print(\"b is equal to a\")"
      ],
      "metadata": {
        "colab": {
          "base_uri": "https://localhost:8080/"
        },
        "id": "arVloYepjsmg",
        "outputId": "2f2d20ec-c29e-44a8-8c47-a01a94ca0b70"
      },
      "execution_count": null,
      "outputs": [
        {
          "output_type": "stream",
          "name": "stdout",
          "text": [
            "b is equal to a\n"
          ]
        }
      ]
    },
    {
      "cell_type": "markdown",
      "source": [
        "Else Statements"
      ],
      "metadata": {
        "id": "ZgPQFUVhkF3g"
      }
    },
    {
      "cell_type": "code",
      "source": [
        "a = 200\n",
        "b = 33\n",
        "if b>a:\n",
        "  print(\"b is greater than a\")\n",
        "elif a==b:\n",
        "    print(\"a and b are equal\")\n",
        "else:\n",
        "    print(\"a is greater than b\")"
      ],
      "metadata": {
        "colab": {
          "base_uri": "https://localhost:8080/"
        },
        "id": "1mlCM2Q1kHQn",
        "outputId": "084a3b6f-1491-4c31-cf7b-b2170239af0e"
      },
      "execution_count": null,
      "outputs": [
        {
          "output_type": "stream",
          "name": "stdout",
          "text": [
            "a is greater than b\n"
          ]
        }
      ]
    },
    {
      "cell_type": "markdown",
      "source": [
        "Short hand If..Else statement"
      ],
      "metadata": {
        "id": "wmN85QeykfHO"
      }
    },
    {
      "cell_type": "code",
      "source": [
        "a = 2\n",
        "b = 330\n",
        "print(\"A\") if a > b else print(\"B\")"
      ],
      "metadata": {
        "colab": {
          "base_uri": "https://localhost:8080/"
        },
        "id": "dwa_j0ApkhnU",
        "outputId": "62013bb9-5338-4474-87bc-599c57dbfc74"
      },
      "execution_count": null,
      "outputs": [
        {
          "output_type": "stream",
          "name": "stdout",
          "text": [
            "B\n"
          ]
        }
      ]
    },
    {
      "cell_type": "code",
      "source": [
        "#If Statement\n",
        "a = 50\n",
        "b = 50\n",
        "if a>b:\n",
        "  print(\"a is greater than b\")"
      ],
      "metadata": {
        "id": "cZ_yFrENk3UU"
      },
      "execution_count": null,
      "outputs": []
    },
    {
      "cell_type": "code",
      "source": [
        "#Elif Statement\n",
        "if a>b:\n",
        "  print(\"a is greater than b\")\n",
        "else:\n",
        "  print(\"a is less than b\")"
      ],
      "metadata": {
        "colab": {
          "base_uri": "https://localhost:8080/"
        },
        "id": "1KwmZXfzlPxS",
        "outputId": "d887ffd6-5a2f-423a-e608-a98a5c9f1c9c"
      },
      "execution_count": null,
      "outputs": [
        {
          "output_type": "stream",
          "name": "stdout",
          "text": [
            "a is less than b\n"
          ]
        }
      ]
    },
    {
      "cell_type": "code",
      "source": [
        "#Else Statement\n",
        "if a>b:\n",
        "  print(\"a is greater than b\")\n",
        "elif a<b:\n",
        "  print(\"a is less than b\")\n",
        "else:\n",
        "  print(\"a is equal to b\")"
      ],
      "metadata": {
        "colab": {
          "base_uri": "https://localhost:8080/"
        },
        "id": "nVmhyKb9loVM",
        "outputId": "15c60e2f-457e-4372-fc88-b87787c8f0a9"
      },
      "execution_count": null,
      "outputs": [
        {
          "output_type": "stream",
          "name": "stdout",
          "text": [
            "a is equal to b\n"
          ]
        }
      ]
    },
    {
      "cell_type": "markdown",
      "source": [
        "Short Hand If..."
      ],
      "metadata": {
        "id": "ogu0lAyemO_9"
      }
    },
    {
      "cell_type": "code",
      "source": [
        "if a==b: print(\"a is equal to b\")"
      ],
      "metadata": {
        "colab": {
          "base_uri": "https://localhost:8080/"
        },
        "id": "gXg81dPymSaz",
        "outputId": "dbdf42e2-8034-4d40-a66b-8b2491612748"
      },
      "execution_count": null,
      "outputs": [
        {
          "output_type": "stream",
          "name": "stdout",
          "text": [
            "a is equal to b\n"
          ]
        }
      ]
    },
    {
      "cell_type": "code",
      "source": [
        "Short Hand If..Else"
      ],
      "metadata": {
        "id": "x7SpxRVJmj8c"
      },
      "execution_count": null,
      "outputs": []
    },
    {
      "cell_type": "code",
      "source": [
        "print(\"a is greater than b\")if a>b else print(\"a is less than b\")"
      ],
      "metadata": {
        "colab": {
          "base_uri": "https://localhost:8080/"
        },
        "id": "uQyTSFhRmnNM",
        "outputId": "d4c4983b-66ae-40cf-e7df-1198f7a19ffb"
      },
      "execution_count": null,
      "outputs": [
        {
          "output_type": "stream",
          "name": "stdout",
          "text": [
            "a is less than b\n"
          ]
        }
      ]
    },
    {
      "cell_type": "markdown",
      "source": [
        "And condition:\n",
        "\n",
        "both conditions are true"
      ],
      "metadata": {
        "id": "mx2_flJ3m3ak"
      }
    },
    {
      "cell_type": "code",
      "source": [
        "s = 75\n",
        "t = 70\n",
        "\n",
        "if s>t and t<s:\n",
        "  print(\"s is greater than t\")"
      ],
      "metadata": {
        "colab": {
          "base_uri": "https://localhost:8080/"
        },
        "id": "JB3JpNq0m61n",
        "outputId": "aa98d008-a34d-4677-dd3b-75ff46e3f2cc"
      },
      "execution_count": null,
      "outputs": [
        {
          "output_type": "stream",
          "name": "stdout",
          "text": [
            "s is greater than t\n"
          ]
        }
      ]
    },
    {
      "cell_type": "markdown",
      "source": [
        "Or condition:\n",
        "\n",
        "at least one of the conditions are true"
      ],
      "metadata": {
        "id": "4pfWFLlKnDLI"
      }
    },
    {
      "cell_type": "code",
      "source": [
        "print(\"s is greater than t and t is less than s\")"
      ],
      "metadata": {
        "colab": {
          "base_uri": "https://localhost:8080/"
        },
        "id": "DIRBmElsnGOX",
        "outputId": "682ef411-95e1-4a2a-d75c-e3facb8c7fde"
      },
      "execution_count": null,
      "outputs": [
        {
          "output_type": "stream",
          "name": "stdout",
          "text": [
            "s is greater than t and t is less than s\n"
          ]
        }
      ]
    },
    {
      "cell_type": "markdown",
      "source": [
        "Nested if Statement"
      ],
      "metadata": {
        "id": "1HndoWptrPzO"
      }
    },
    {
      "cell_type": "code",
      "source": [
        "x = float(input())\n",
        "\n",
        "if x>10:\n",
        "  print(\"above 10\")\n",
        "  if x>20:\n",
        "    print(\"above 20\")\n",
        "    if x>30:\n",
        "      print(\"above 30\")\n",
        "      if x>40:\n",
        "        print(\"above 40\")\n",
        "        if x>50:\n",
        "          print(\"above 50\")\n",
        "        else:\n",
        "          print(\"below 50\")\n",
        "      else:\n",
        "        print(\"below 40\")\n",
        "    else:\n",
        "      print(\"below 30\")\n",
        "  else:\n",
        "    print(\"below 20\")\n",
        "else:\n",
        "  print(\"below 10\")"
      ],
      "metadata": {
        "colab": {
          "base_uri": "https://localhost:8080/"
        },
        "id": "XC-fi00BrRhe",
        "outputId": "86ee1e5f-8c9d-48ee-8d5f-806c121e343f"
      },
      "execution_count": null,
      "outputs": [
        {
          "output_type": "stream",
          "name": "stdout",
          "text": [
            "49.9\n",
            "above 10\n",
            "above 20\n",
            "above 30\n",
            "above 40\n",
            "below 50\n"
          ]
        }
      ]
    },
    {
      "cell_type": "markdown",
      "source": [
        "Example 1"
      ],
      "metadata": {
        "id": "lNXc21mKtdt6"
      }
    },
    {
      "cell_type": "code",
      "source": [
        "x = int(input())\n",
        "\n",
        "if x<18:\n",
        "  print(\"Not eligible to vote\")\n",
        "else:\n",
        "  print(\"Eligible to vote\")"
      ],
      "metadata": {
        "colab": {
          "base_uri": "https://localhost:8080/"
        },
        "id": "8vaj0BCMslcz",
        "outputId": "e7b83ba1-ceab-40f1-a558-43316ef4eb5c"
      },
      "execution_count": null,
      "outputs": [
        {
          "output_type": "stream",
          "name": "stdout",
          "text": [
            "20\n",
            "Eligible to vote\n"
          ]
        }
      ]
    },
    {
      "cell_type": "markdown",
      "source": [
        "Example 2"
      ],
      "metadata": {
        "id": "bbB0Dg3etxsp"
      }
    },
    {
      "cell_type": "code",
      "source": [
        "c = int(input())\n",
        "\n",
        "if c<0:\n",
        "  print(\"The number is negative\")\n",
        "elif c==0:\n",
        "  print(\"The number is zero\")\n",
        "else:\n",
        "  print(\"The number is positive\")"
      ],
      "metadata": {
        "colab": {
          "base_uri": "https://localhost:8080/"
        },
        "id": "-ptydAIvtyyh",
        "outputId": "d4f7c80b-815a-460e-8591-456d0d4292f5"
      },
      "execution_count": null,
      "outputs": [
        {
          "output_type": "stream",
          "name": "stdout",
          "text": [
            "0\n",
            "The number is zero\n"
          ]
        }
      ]
    },
    {
      "cell_type": "markdown",
      "source": [
        "Example 3"
      ],
      "metadata": {
        "id": "5vzFtAtouHeq"
      }
    },
    {
      "cell_type": "code",
      "source": [
        "g = float(input())\n",
        "\n",
        "if g>100 or g<0:\n",
        "  print(\"This grade cannot be accepted\")\n",
        "elif g>=69.5 and g<=100:\n",
        "  print(\"Passed\")\n",
        "elif g>=64.5 and g<=69.4:\n",
        "  print(\"Remedial\")\n",
        "else:\n",
        "  print(\"Failed\")"
      ],
      "metadata": {
        "colab": {
          "base_uri": "https://localhost:8080/"
        },
        "id": "TiUAQi4guMBR",
        "outputId": "adf5b481-227d-411a-8d5b-c202df5412c5"
      },
      "execution_count": 128,
      "outputs": [
        {
          "output_type": "stream",
          "name": "stdout",
          "text": [
            "100.1\n",
            "This grade cannot be accepted\n"
          ]
        }
      ]
    }
  ]
}