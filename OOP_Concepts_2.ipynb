{
  "nbformat": 4,
  "nbformat_minor": 0,
  "metadata": {
    "colab": {
      "provenance": [],
      "authorship_tag": "ABX9TyOU0eCFAhxr0Pd4JLG6PDPO",
      "include_colab_link": true
    },
    "kernelspec": {
      "name": "python3",
      "display_name": "Python 3"
    },
    "language_info": {
      "name": "python"
    }
  },
  "cells": [
    {
      "cell_type": "markdown",
      "metadata": {
        "id": "view-in-github",
        "colab_type": "text"
      },
      "source": [
        "<a href=\"https://colab.research.google.com/github/Benedicto-Luver/58002--OOP/blob/main/OOP_Concepts_2.ipynb\" target=\"_parent\"><img src=\"https://colab.research.google.com/assets/colab-badge.svg\" alt=\"Open In Colab\"/></a>"
      ]
    },
    {
      "cell_type": "code",
      "execution_count": 8,
      "metadata": {
        "colab": {
          "base_uri": "https://localhost:8080/"
        },
        "id": "sOMksclS5_vq",
        "outputId": "42df2cbf-4110-4d20-ae95-81a549d907e5"
      },
      "outputs": [
        {
          "output_type": "stream",
          "name": "stdout",
          "text": [
            "Griffon vulture flies above clouds\n",
            "Common Crane flies above clouds\n",
            "Emu is the national bird of the Philippines\n"
          ]
        }
      ],
      "source": [
        "#Class with multiple objects\n",
        "\n",
        "class Birds:\n",
        "  def __init__(self, bird_name):\n",
        "    self.bird_name = bird_name\n",
        "  def flying_birds(self):\n",
        "    print(f\"{self.bird_name} flies above clouds\")\n",
        "  def non_flying_birds(self):\n",
        "    print(f\"{self.bird_name} is the national bird of the Philippines\")\n",
        "\n",
        "\n",
        "\n",
        "vulture = Birds(\"Griffon vulture\")\n",
        "crane = Birds(\"Common Crane\")\n",
        "emu = Birds(\"Emu\")\n",
        "\n",
        "vulture.flying_birds()\n",
        "crane.flying_birds()\n",
        "emu.non_flying_birds()"
      ]
    },
    {
      "cell_type": "markdown",
      "source": [
        "Encapsulation\n",
        "\n",
        "Encapsulation is the process of combining variables that store data and methods that work on those variables into a single unit called class."
      ],
      "metadata": {
        "id": "k-R8w84J7egj"
      }
    },
    {
      "cell_type": "code",
      "source": [
        "#Encapsulation\n",
        "class foo:\n",
        "  def __init__(self, a, b):\n",
        "    self.__a = a\n",
        "    self.__b = b\n",
        "  def add(self):\n",
        "    return self.__a + self.__b\n",
        "\n",
        "foo_object = foo(3,4)\n",
        "foo_object.add()\n",
        "foo_object.a = 7\n",
        "foo_object.b = 6\n",
        "foo_object.add()"
      ],
      "metadata": {
        "colab": {
          "base_uri": "https://localhost:8080/"
        },
        "id": "tYXnxiw37gxk",
        "outputId": "7ff33c5a-529e-4b84-cd3b-b5e73de58a01"
      },
      "execution_count": 22,
      "outputs": [
        {
          "output_type": "execute_result",
          "data": {
            "text/plain": [
              "7"
            ]
          },
          "metadata": {},
          "execution_count": 22
        }
      ]
    },
    {
      "cell_type": "code",
      "source": [
        "#Inheritance\n",
        "class Person:\n",
        "  def __init__(self, name, birthdate):\n",
        "    self.name = name\n",
        "    self.birthdate = birthdate\n",
        "  def display(self):\n",
        "    print(\"My name is\", self.name)\n",
        "    print(\"My birthdate is\", self.birthdate)\n",
        "\n",
        "class Student(Person):\n",
        "  pass\n",
        "\n",
        "person = Person(\"Luver\", \"July 28, 2003\")\n",
        "person.display()\n",
        "\n",
        "student = Person(\"Leifur\", \"June 12, 2003\")\n",
        "student.display()"
      ],
      "metadata": {
        "colab": {
          "base_uri": "https://localhost:8080/"
        },
        "id": "iItpOvA0AtPh",
        "outputId": "4a335529-1bb0-426f-db50-31fd59d9b5ba"
      },
      "execution_count": 16,
      "outputs": [
        {
          "output_type": "stream",
          "name": "stdout",
          "text": [
            "My name is Luver\n",
            "My birthdate is July 28, 2003\n",
            "My name is Leifur\n",
            "My birthdate is June 12, 2003\n"
          ]
        }
      ]
    },
    {
      "cell_type": "code",
      "source": [
        "#Create a class name Shapes (5 shapes)\n",
        "#Attributes is sides\n",
        "#Create a function/method that display the no. of side of each shape\n",
        "#Apply inheritance and encapsulation\n",
        "\n",
        "class Shapes:\n",
        "    def __init__(self, sides, name):\n",
        "        self.sides = sides\n",
        "        self.name = name\n",
        "\n",
        "    def display_sides(self):\n",
        "        print(\"The\", self.name, \"has\", self.sides, \"sides.\")\n",
        "\n",
        "\n",
        "class Rectangle(Shapes):\n",
        "    def __init__(self, length, width):\n",
        "        self.length = length\n",
        "        self.width = width\n",
        "        super().__init__(4, \"Rectangle\")\n",
        "\n",
        "\n",
        "class Square(Shapes):\n",
        "    def __init__(self, side):\n",
        "        self.side = side\n",
        "        super().__init__(4, \"Square\")\n",
        "\n",
        "\n",
        "class Triangle(Shapes):\n",
        "    def __init__(self, base, height):\n",
        "        self.base = base\n",
        "        self.height = height\n",
        "        super().__init__(3, \"Triangle\")\n",
        "\n",
        "\n",
        "class Circle(Shapes):\n",
        "    def __init__(self, radius):\n",
        "        self.radius = radius\n",
        "        super().__init__(0, \"Circle\")\n",
        "\n",
        "\n",
        "class Pentagon(Shapes):\n",
        "    def __init__(self, side):\n",
        "        self.side = side\n",
        "        super().__init__(5, \"Pentagon\")\n",
        "\n",
        "\n",
        "r = Rectangle(3, 4)\n",
        "r.display_sides()\n",
        "\n",
        "s = Square(5)\n",
        "s.display_sides()\n",
        "\n",
        "t = Triangle(3, 5)\n",
        "t.display_sides()\n",
        "\n",
        "c = Circle(2)\n",
        "c.display_sides()\n",
        "\n",
        "p = Pentagon(4)\n",
        "p.display_sides()\n"
      ],
      "metadata": {
        "colab": {
          "base_uri": "https://localhost:8080/"
        },
        "id": "4Glw_AgZC55Q",
        "outputId": "ecfe9329-fd04-4ac5-f158-0b41b73b556f"
      },
      "execution_count": 25,
      "outputs": [
        {
          "output_type": "stream",
          "name": "stdout",
          "text": [
            "The Rectangle has 4 sides.\n",
            "The Square has 4 sides.\n",
            "The Triangle has 3 sides.\n",
            "The Circle has 0 sides.\n",
            "The Pentagon has 5 sides.\n"
          ]
        }
      ]
    }
  ]
}